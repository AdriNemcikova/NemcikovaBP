{
 "cells": [
  {
   "cell_type": "code",
   "execution_count": 1,
   "metadata": {
    "collapsed": true
   },
   "outputs": [
    {
     "name": "stderr",
     "output_type": "stream",
     "text": [
      "C:\\Users\\nemci\\anaconda3\\lib\\site-packages\\tensorflow\\python\\framework\\dtypes.py:516: FutureWarning: Passing (type, 1) or '1type' as a synonym of type is deprecated; in a future version of numpy, it will be understood as (type, (1,)) / '(1,)type'.\n",
      "  _np_qint8 = np.dtype([(\"qint8\", np.int8, 1)])\n",
      "C:\\Users\\nemci\\anaconda3\\lib\\site-packages\\tensorflow\\python\\framework\\dtypes.py:517: FutureWarning: Passing (type, 1) or '1type' as a synonym of type is deprecated; in a future version of numpy, it will be understood as (type, (1,)) / '(1,)type'.\n",
      "  _np_quint8 = np.dtype([(\"quint8\", np.uint8, 1)])\n",
      "C:\\Users\\nemci\\anaconda3\\lib\\site-packages\\tensorflow\\python\\framework\\dtypes.py:518: FutureWarning: Passing (type, 1) or '1type' as a synonym of type is deprecated; in a future version of numpy, it will be understood as (type, (1,)) / '(1,)type'.\n",
      "  _np_qint16 = np.dtype([(\"qint16\", np.int16, 1)])\n",
      "C:\\Users\\nemci\\anaconda3\\lib\\site-packages\\tensorflow\\python\\framework\\dtypes.py:519: FutureWarning: Passing (type, 1) or '1type' as a synonym of type is deprecated; in a future version of numpy, it will be understood as (type, (1,)) / '(1,)type'.\n",
      "  _np_quint16 = np.dtype([(\"quint16\", np.uint16, 1)])\n",
      "C:\\Users\\nemci\\anaconda3\\lib\\site-packages\\tensorflow\\python\\framework\\dtypes.py:520: FutureWarning: Passing (type, 1) or '1type' as a synonym of type is deprecated; in a future version of numpy, it will be understood as (type, (1,)) / '(1,)type'.\n",
      "  _np_qint32 = np.dtype([(\"qint32\", np.int32, 1)])\n",
      "C:\\Users\\nemci\\anaconda3\\lib\\site-packages\\tensorflow\\python\\framework\\dtypes.py:525: FutureWarning: Passing (type, 1) or '1type' as a synonym of type is deprecated; in a future version of numpy, it will be understood as (type, (1,)) / '(1,)type'.\n",
      "  np_resource = np.dtype([(\"resource\", np.ubyte, 1)])\n",
      "C:\\Users\\nemci\\anaconda3\\lib\\site-packages\\tensorboard\\compat\\tensorflow_stub\\dtypes.py:541: FutureWarning: Passing (type, 1) or '1type' as a synonym of type is deprecated; in a future version of numpy, it will be understood as (type, (1,)) / '(1,)type'.\n",
      "  _np_qint8 = np.dtype([(\"qint8\", np.int8, 1)])\n",
      "C:\\Users\\nemci\\anaconda3\\lib\\site-packages\\tensorboard\\compat\\tensorflow_stub\\dtypes.py:542: FutureWarning: Passing (type, 1) or '1type' as a synonym of type is deprecated; in a future version of numpy, it will be understood as (type, (1,)) / '(1,)type'.\n",
      "  _np_quint8 = np.dtype([(\"quint8\", np.uint8, 1)])\n",
      "C:\\Users\\nemci\\anaconda3\\lib\\site-packages\\tensorboard\\compat\\tensorflow_stub\\dtypes.py:543: FutureWarning: Passing (type, 1) or '1type' as a synonym of type is deprecated; in a future version of numpy, it will be understood as (type, (1,)) / '(1,)type'.\n",
      "  _np_qint16 = np.dtype([(\"qint16\", np.int16, 1)])\n",
      "C:\\Users\\nemci\\anaconda3\\lib\\site-packages\\tensorboard\\compat\\tensorflow_stub\\dtypes.py:544: FutureWarning: Passing (type, 1) or '1type' as a synonym of type is deprecated; in a future version of numpy, it will be understood as (type, (1,)) / '(1,)type'.\n",
      "  _np_quint16 = np.dtype([(\"quint16\", np.uint16, 1)])\n",
      "C:\\Users\\nemci\\anaconda3\\lib\\site-packages\\tensorboard\\compat\\tensorflow_stub\\dtypes.py:545: FutureWarning: Passing (type, 1) or '1type' as a synonym of type is deprecated; in a future version of numpy, it will be understood as (type, (1,)) / '(1,)type'.\n",
      "  _np_qint32 = np.dtype([(\"qint32\", np.int32, 1)])\n",
      "C:\\Users\\nemci\\anaconda3\\lib\\site-packages\\tensorboard\\compat\\tensorflow_stub\\dtypes.py:550: FutureWarning: Passing (type, 1) or '1type' as a synonym of type is deprecated; in a future version of numpy, it will be understood as (type, (1,)) / '(1,)type'.\n",
      "  np_resource = np.dtype([(\"resource\", np.ubyte, 1)])\n",
      "Using TensorFlow backend.\n"
     ]
    }
   ],
   "source": [
    "# BLOK 1 \n",
    "# Importovanie kniznic\n",
    "\n",
    "import pandas as pd\n",
    "import numpy as np\n",
    "import json\n",
    "\n",
    "from tensorflow.keras.models import Sequential, load_model, Model\n",
    "from tensorflow.keras.layers import Convolution1D, MaxPooling1D, Flatten, Dense, Dropout, LSTM, GRU, Concatenate\n",
    "import tensorflow.keras.utils \n",
    "from keras.utils import to_categorical\n",
    "from sklearn.model_selection import train_test_split\n",
    "from ast import literal_eval\n",
    "from sklearn.metrics import confusion_matrix, precision_score, recall_score, f1_score, classification_report\n",
    "\n",
    "from tensorflow.keras.models import Sequential"
   ]
  },
  {
   "cell_type": "code",
   "execution_count": 2,
   "metadata": {},
   "outputs": [],
   "source": [
    "# BLOK 2 \n",
    "# Nacitanie datasetu syntetickych kriviek\n",
    "\n",
    "data_syn = pd.read_csv(r\"C:\\Users\\nemci\\OneDrive\\Počítač\\Bakalárska práca\\Data\\df_all.csv_v2\")"
   ]
  },
  {
   "cell_type": "code",
   "execution_count": 3,
   "metadata": {},
   "outputs": [],
   "source": [
    "# BLOK 3\n",
    "# Diskretizacia\n",
    "\n",
    "newDataAll = []\n",
    "for row in data_syn['generic_bessell_v']:\n",
    "    row = json.loads(row)\n",
    "    minValueOfRow, maxValueOfRow = min(row), max(row)\n",
    "    newRow = []\n",
    "    for valueIndex in range(len(row)):\n",
    "        row[valueIndex] = (row[valueIndex] - minValueOfRow) / (maxValueOfRow - minValueOfRow)\n",
    "        newRow.append([row[valueIndex]])\n",
    "    newDataAll.append(newRow)\n",
    "newDataAll = np.array(newDataAll)"
   ]
  },
  {
   "cell_type": "code",
   "execution_count": 10,
   "metadata": {},
   "outputs": [
    {
     "name": "stdout",
     "output_type": "stream",
     "text": [
      "990407\n",
      "990407\n"
     ]
    }
   ],
   "source": [
    "# BLOK 4\n",
    "# Vytvorenie cieloveho atributu pre morfologicku klasifikaciu (0 = dotykove, 1 = oddelene) a cieloveho atributu pre klasifikaciu\n",
    "# podla skvrnitosti (0 = neskvrnite, 1 = skrvnite). Zmena cielovych atributov na numpy pole\n",
    "\n",
    "targetAll, targetSpotty = [], []\n",
    "\n",
    "for index, row in data_syn.iterrows():\n",
    "    if row[\"morphology\"] == \"over-contact\" and row[\"spotty\"] == 1:\n",
    "        targetAll.append(0)\n",
    "        targetSpotty.append(1)\n",
    "    elif row[\"morphology\"] == \"over-contact\" and row[\"spotty\"] == 0:\n",
    "        targetAll.append(0)\n",
    "        targetSpotty.append(0)\n",
    "    elif row[\"morphology\"] == \"detached\" and row[\"spotty\"] == 1:\n",
    "        targetAll.append(1)\n",
    "        targetSpotty.append(1)\n",
    "\n",
    "    elif row[\"morphology\"] == \"detached\" and row[\"spotty\"] == 0:\n",
    "        targetAll.append(1)\n",
    "        targetSpotty.append(0)\n",
    "        \n",
    "targetAll = np.array(targetAll)\n",
    "targetSpotty = np.array(targetSpotty)\n",
    "\n",
    "print(len(targetAll))\n",
    "print(len(targetSpotty))"
   ]
  },
  {
   "cell_type": "code",
   "execution_count": 11,
   "metadata": {},
   "outputs": [
    {
     "name": "stdout",
     "output_type": "stream",
     "text": [
      "Number of light curves: 990407\n",
      "Target attribute: 990407\n",
      "Length X_test: 198082\n",
      "Length y_test: 198082\n",
      "Length X_test: 198082\n",
      "Length y_test: 198082\n",
      "Length X_test: 198082\n",
      "Length y_test: 198082\n"
     ]
    }
   ],
   "source": [
    "# BLOK 6\n",
    "# Rozdelenie upravenych kriviek na trenovaciu a testovaciu mnozinu v pomere 80:20\n",
    "\n",
    "# Vsetky krivky\n",
    "print(\"Number of light curves: \" + str(len(newDataAll)) + \"\\nTarget attribute: \" + str(len(targetAll)))\n",
    "X_trainAll, X_testAll, y_trainAll, y_testAll = train_test_split(newDataAll, targetAll, test_size=0.2)\n",
    "y_testAll = to_categorical(y_testAll, 2)\n",
    "print(\"Length X_test: \" + str(len(X_testAll)) + \"\\nLength y_test: \" + str(len(y_testAll)))\n",
    "\n",
    "# Oddelene krivky\n",
    "X_trainDet, X_testDet, y_trainDet, y_testDet = train_test_split(newDataAll, targetSpotty, test_size = 0.2)\n",
    "y_testDet = to_categorical(y_testDet, 2)\n",
    "print(\"Length X_test: \" + str(len(X_testDet)) + \"\\nLength y_test: \" + str(len(y_testDet)))\n",
    "\n",
    "# Dotykove krivky\n",
    "X_trainOver, X_testOver, y_trainOver, y_testOver = train_test_split(newDataAll, targetSpotty, test_size = 0.2)\n",
    "y_testOver = to_categorical(y_testOver, 2)\n",
    "print(\"Length X_test: \" + str(len(X_testOver)) + \"\\nLength y_test: \" + str(len(y_testOver)))"
   ]
  },
  {
   "cell_type": "code",
   "execution_count": 6,
   "metadata": {
    "scrolled": true
   },
   "outputs": [
    {
     "name": "stdout",
     "output_type": "stream",
     "text": [
      "WARNING:tensorflow:From C:\\Users\\nemci\\anaconda3\\lib\\site-packages\\tensorflow\\python\\ops\\init_ops.py:97: calling GlorotUniform.__init__ (from tensorflow.python.ops.init_ops) with dtype is deprecated and will be removed in a future version.\n",
      "Instructions for updating:\n",
      "Call initializer instance with the dtype argument instead of passing it to the constructor\n",
      "WARNING:tensorflow:From C:\\Users\\nemci\\anaconda3\\lib\\site-packages\\tensorflow\\python\\ops\\init_ops.py:1251: calling VarianceScaling.__init__ (from tensorflow.python.ops.init_ops) with dtype is deprecated and will be removed in a future version.\n",
      "Instructions for updating:\n",
      "Call initializer instance with the dtype argument instead of passing it to the constructor\n",
      "WARNING:tensorflow:From C:\\Users\\nemci\\anaconda3\\lib\\site-packages\\tensorflow\\python\\ops\\init_ops.py:97: calling Zeros.__init__ (from tensorflow.python.ops.init_ops) with dtype is deprecated and will be removed in a future version.\n",
      "Instructions for updating:\n",
      "Call initializer instance with the dtype argument instead of passing it to the constructor\n",
      "WARNING:tensorflow:From C:\\Users\\nemci\\anaconda3\\lib\\site-packages\\tensorflow\\python\\ops\\init_ops.py:97: calling Orthogonal.__init__ (from tensorflow.python.ops.init_ops) with dtype is deprecated and will be removed in a future version.\n",
      "Instructions for updating:\n",
      "Call initializer instance with the dtype argument instead of passing it to the constructor\n",
      "WARNING:tensorflow:From C:\\Users\\nemci\\anaconda3\\lib\\site-packages\\tensorflow\\python\\ops\\math_grad.py:1250: add_dispatch_support.<locals>.wrapper (from tensorflow.python.ops.array_ops) is deprecated and will be removed in a future version.\n",
      "Instructions for updating:\n",
      "Use tf.where in 2.0, which has the same broadcast rule as np.where\n",
      "Confusion Matrix (hierarchical model): \n",
      "[[ 18211      5]\n",
      " [    16 179850]]\n",
      "              precision    recall  f1-score   support\n",
      "\n",
      "           0       1.00      1.00      1.00     18216\n",
      "           1       1.00      1.00      1.00    179866\n",
      "\n",
      "    accuracy                           1.00    198082\n",
      "   macro avg       1.00      1.00      1.00    198082\n",
      "weighted avg       1.00      1.00      1.00    198082\n",
      "\n"
     ]
    }
   ],
   "source": [
    "# BLOK 8\n",
    "# Nacitanie modelu. Predikovanie triedy vsetkych syntetickych kriviek a vyhodnotenie modelu na testovacej mnozine syntetickych \n",
    "# kriviek pomocou confusion matrix a vypocet presnosti, navratnosti a f1 skore\n",
    "\n",
    "modelAll = load_model(\"new_modelLstmCnnAll.hdf5\")\n",
    "y_pred = modelAll.predict(X_testAll)\n",
    "y_pred2 = []\n",
    "for i in y_pred:\n",
    "    maximum = np.argmax(i)\n",
    "    y_pred2.append(maximum) \n",
    "cm = confusion_matrix(y_testAll.argmax(axis=1), y_pred2)\n",
    "print(\"Confusion Matrix (hierarchical model): \\n\" + str(cm))\n",
    "rep = classification_report(y_testAll.argmax(axis=1), y_pred2, zero_division = 1)\n",
    "print(str(rep))"
   ]
  },
  {
   "cell_type": "code",
   "execution_count": 12,
   "metadata": {},
   "outputs": [
    {
     "name": "stdout",
     "output_type": "stream",
     "text": [
      "Confusion Matrix (detached spotty/no spotty): \n",
      "[[98442    65]\n",
      " [13005 86570]]\n",
      "              precision    recall  f1-score   support\n",
      "\n",
      "           0       0.88      1.00      0.94     98507\n",
      "           1       1.00      0.87      0.93     99575\n",
      "\n",
      "    accuracy                           0.93    198082\n",
      "   macro avg       0.94      0.93      0.93    198082\n",
      "weighted avg       0.94      0.93      0.93    198082\n",
      "\n"
     ]
    }
   ],
   "source": [
    "# BLOK 9\n",
    "# Nacitanie modelu. Predikovanie skvrnitosti oddelenych syntetickych kriviek a vyhodnotenie modelu na testovacej mnozine \n",
    "# syntetickych kriviek pomocou confusion matrix a vypocet presnosti, navratnosti a f1 skore\n",
    "\n",
    "modelDet = load_model(\"new_modelDet.hdf5\")\n",
    "y_pred = modelDet.predict(X_testDet)\n",
    "y_pred2 = []\n",
    "for i in y_pred:\n",
    "    maximum = np.argmax(i)\n",
    "    y_pred2.append(maximum) \n",
    "cmD = confusion_matrix(y_testDet.argmax(axis=1), y_pred2)\n",
    "print(\"Confusion Matrix (detached spotty/no spotty): \\n\" + str(cmD))\n",
    "repDet = classification_report(y_testDet.argmax(axis=1), y_pred2, zero_division = 1)\n",
    "print(str(repDet))"
   ]
  },
  {
   "cell_type": "code",
   "execution_count": 13,
   "metadata": {},
   "outputs": [
    {
     "name": "stdout",
     "output_type": "stream",
     "text": [
      "Confusion Matrix (overcontact spotty/no spotty): \n",
      "[[54428 43982]\n",
      " [20053 79619]]\n",
      "              precision    recall  f1-score   support\n",
      "\n",
      "           0       0.73      0.55      0.63     98410\n",
      "           1       0.64      0.80      0.71     99672\n",
      "\n",
      "    accuracy                           0.68    198082\n",
      "   macro avg       0.69      0.68      0.67    198082\n",
      "weighted avg       0.69      0.68      0.67    198082\n",
      "\n"
     ]
    }
   ],
   "source": [
    "# BLOK 10\n",
    "# Nacitanie modelu. Predikovanie skvrnitosti dotykovych syntetickych kriviek a vyhodnotenie modelu na testovacej mnozine \n",
    "# syntetickych kriviek pomocou confusion matrix a vypocet presnosti, navratnosti a f1 skore\n",
    "\n",
    "modelOver = load_model(\"new_modelOver.hdf5\")\n",
    "y_pred = modelOver.predict(X_testOver)\n",
    "y_pred2 = []\n",
    "for i in y_pred:\n",
    "    maximum = np.argmax(i)\n",
    "    y_pred2.append(maximum) \n",
    "cmO = confusion_matrix(y_testOver.argmax(axis=1), y_pred2)\n",
    "print(\"Confusion Matrix (overcontact spotty/no spotty): \\n\" + str(cmO))\n",
    "repOver = classification_report(y_testOver.argmax(axis=1), y_pred2, zero_division = 1)\n",
    "print(str(repOver))"
   ]
  }
 ],
 "metadata": {
  "kernelspec": {
   "display_name": "Python 3",
   "language": "python",
   "name": "python3"
  },
  "language_info": {
   "codemirror_mode": {
    "name": "ipython",
    "version": 3
   },
   "file_extension": ".py",
   "mimetype": "text/x-python",
   "name": "python",
   "nbconvert_exporter": "python",
   "pygments_lexer": "ipython3",
   "version": "3.7.6"
  }
 },
 "nbformat": 4,
 "nbformat_minor": 4
}
