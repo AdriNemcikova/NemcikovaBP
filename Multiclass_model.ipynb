{
 "cells": [
  {
   "cell_type": "code",
   "execution_count": 1,
   "metadata": {
    "collapsed": true
   },
   "outputs": [
    {
     "name": "stderr",
     "output_type": "stream",
     "text": [
      "C:\\Users\\nemci\\anaconda3\\lib\\site-packages\\tensorflow\\python\\framework\\dtypes.py:516: FutureWarning: Passing (type, 1) or '1type' as a synonym of type is deprecated; in a future version of numpy, it will be understood as (type, (1,)) / '(1,)type'.\n",
      "  _np_qint8 = np.dtype([(\"qint8\", np.int8, 1)])\n",
      "C:\\Users\\nemci\\anaconda3\\lib\\site-packages\\tensorflow\\python\\framework\\dtypes.py:517: FutureWarning: Passing (type, 1) or '1type' as a synonym of type is deprecated; in a future version of numpy, it will be understood as (type, (1,)) / '(1,)type'.\n",
      "  _np_quint8 = np.dtype([(\"quint8\", np.uint8, 1)])\n",
      "C:\\Users\\nemci\\anaconda3\\lib\\site-packages\\tensorflow\\python\\framework\\dtypes.py:518: FutureWarning: Passing (type, 1) or '1type' as a synonym of type is deprecated; in a future version of numpy, it will be understood as (type, (1,)) / '(1,)type'.\n",
      "  _np_qint16 = np.dtype([(\"qint16\", np.int16, 1)])\n",
      "C:\\Users\\nemci\\anaconda3\\lib\\site-packages\\tensorflow\\python\\framework\\dtypes.py:519: FutureWarning: Passing (type, 1) or '1type' as a synonym of type is deprecated; in a future version of numpy, it will be understood as (type, (1,)) / '(1,)type'.\n",
      "  _np_quint16 = np.dtype([(\"quint16\", np.uint16, 1)])\n",
      "C:\\Users\\nemci\\anaconda3\\lib\\site-packages\\tensorflow\\python\\framework\\dtypes.py:520: FutureWarning: Passing (type, 1) or '1type' as a synonym of type is deprecated; in a future version of numpy, it will be understood as (type, (1,)) / '(1,)type'.\n",
      "  _np_qint32 = np.dtype([(\"qint32\", np.int32, 1)])\n",
      "C:\\Users\\nemci\\anaconda3\\lib\\site-packages\\tensorflow\\python\\framework\\dtypes.py:525: FutureWarning: Passing (type, 1) or '1type' as a synonym of type is deprecated; in a future version of numpy, it will be understood as (type, (1,)) / '(1,)type'.\n",
      "  np_resource = np.dtype([(\"resource\", np.ubyte, 1)])\n",
      "C:\\Users\\nemci\\anaconda3\\lib\\site-packages\\tensorboard\\compat\\tensorflow_stub\\dtypes.py:541: FutureWarning: Passing (type, 1) or '1type' as a synonym of type is deprecated; in a future version of numpy, it will be understood as (type, (1,)) / '(1,)type'.\n",
      "  _np_qint8 = np.dtype([(\"qint8\", np.int8, 1)])\n",
      "C:\\Users\\nemci\\anaconda3\\lib\\site-packages\\tensorboard\\compat\\tensorflow_stub\\dtypes.py:542: FutureWarning: Passing (type, 1) or '1type' as a synonym of type is deprecated; in a future version of numpy, it will be understood as (type, (1,)) / '(1,)type'.\n",
      "  _np_quint8 = np.dtype([(\"quint8\", np.uint8, 1)])\n",
      "C:\\Users\\nemci\\anaconda3\\lib\\site-packages\\tensorboard\\compat\\tensorflow_stub\\dtypes.py:543: FutureWarning: Passing (type, 1) or '1type' as a synonym of type is deprecated; in a future version of numpy, it will be understood as (type, (1,)) / '(1,)type'.\n",
      "  _np_qint16 = np.dtype([(\"qint16\", np.int16, 1)])\n",
      "C:\\Users\\nemci\\anaconda3\\lib\\site-packages\\tensorboard\\compat\\tensorflow_stub\\dtypes.py:544: FutureWarning: Passing (type, 1) or '1type' as a synonym of type is deprecated; in a future version of numpy, it will be understood as (type, (1,)) / '(1,)type'.\n",
      "  _np_quint16 = np.dtype([(\"quint16\", np.uint16, 1)])\n",
      "C:\\Users\\nemci\\anaconda3\\lib\\site-packages\\tensorboard\\compat\\tensorflow_stub\\dtypes.py:545: FutureWarning: Passing (type, 1) or '1type' as a synonym of type is deprecated; in a future version of numpy, it will be understood as (type, (1,)) / '(1,)type'.\n",
      "  _np_qint32 = np.dtype([(\"qint32\", np.int32, 1)])\n",
      "C:\\Users\\nemci\\anaconda3\\lib\\site-packages\\tensorboard\\compat\\tensorflow_stub\\dtypes.py:550: FutureWarning: Passing (type, 1) or '1type' as a synonym of type is deprecated; in a future version of numpy, it will be understood as (type, (1,)) / '(1,)type'.\n",
      "  np_resource = np.dtype([(\"resource\", np.ubyte, 1)])\n",
      "Using TensorFlow backend.\n"
     ]
    }
   ],
   "source": [
    "# BLOK 1 \n",
    "# IMPORTOVANIE KNIZNIC\n",
    "\n",
    "import pandas as pd\n",
    "import numpy as np\n",
    "import json\n",
    "\n",
    "from tensorflow.keras.callbacks import ModelCheckpoint\n",
    "from tensorflow.keras import Input\n",
    "from tensorflow.keras.models import Sequential, load_model, Model\n",
    "from tensorflow.keras.layers import Convolution1D, MaxPooling1D, Flatten, Dense, Dropout, LSTM, GRU, Concatenate\n",
    "import tensorflow.keras.utils \n",
    "from keras.utils import to_categorical\n",
    "from sklearn.model_selection import train_test_split\n",
    "from ast import literal_eval\n",
    "from sklearn.metrics import confusion_matrix, precision_score, recall_score, f1_score, classification_report\n",
    "\n",
    "from tensorflow.keras.models import Sequential"
   ]
  },
  {
   "cell_type": "code",
   "execution_count": null,
   "metadata": {},
   "outputs": [],
   "source": [
    "# ----------------------- SYNTHETIC LIGHT CURVES ----------------------- #\n",
    "# ----------------------- SYNTHETIC LIGHT CURVES ----------------------- #\n",
    "# ----------------------- SYNTHETIC LIGHT CURVES ----------------------- #"
   ]
  },
  {
   "cell_type": "code",
   "execution_count": 2,
   "metadata": {},
   "outputs": [],
   "source": [
    "# BLOK 2 \n",
    "# Nacitanie datasetu syntetickych kriviek\n",
    "\n",
    "data_syn = pd.read_csv(r\"C:\\Users\\nemci\\OneDrive\\Počítač\\Bakalárska práca\\Data\\df_all.csv_v2\")"
   ]
  },
  {
   "cell_type": "code",
   "execution_count": 4,
   "metadata": {},
   "outputs": [
    {
     "name": "stdout",
     "output_type": "stream",
     "text": [
      "Over-contact spotty: 45320\n",
      "Detached spotty: 453662\n",
      "Over-contact no spotty: 45869\n",
      "Detached no spotty: 445556\n"
     ]
    }
   ],
   "source": [
    "# BLOK 3\n",
    "# Pridanie noveho atributu classes a classNum do povodneho datasetu a ich zmena na numpy pole. Atribut classNum bude pouzity ako\n",
    "# cielovy atribut pri trenovani a vyhodnoteni modelu\n",
    "\n",
    "classes = []\n",
    "classNum = []\n",
    "oc_S, dt_S, oc_noS, dt_noS = 0, 0, 0, 0\n",
    "\n",
    "for index, row in data_syn.iterrows():\n",
    "    if row[\"morphology\"] == \"over-contact\" and row[\"spotty\"] == 1: \n",
    "        classes.append(\"overSpotty\")\n",
    "        classNum.append(1)\n",
    "        oc_S +=1\n",
    "    elif row[\"morphology\"] == \"over-contact\" and row[\"spotty\"] == 0:\n",
    "        classes.append(\"over\")\n",
    "        classNum.append(2)\n",
    "        oc_noS +=1\n",
    "    elif row[\"morphology\"] == \"detached\" and row[\"spotty\"] == 1: \n",
    "        classes.append(\"detSpotty\")\n",
    "        classNum.append(3)\n",
    "        dt_S +=1\n",
    "    elif row[\"morphology\"] == \"detached\" and row[\"spotty\"] == 0: \n",
    "        classes.append(\"det\")\n",
    "        classNum.append(4)\n",
    "        dt_noS +=1\n",
    "data_syn[\"classes\"] = classes\n",
    "data_syn[\"classNum\"] = classNum\n",
    "classes = np.array(classes)\n",
    "classNum = np.array(classNum)\n",
    "print('Over-contact spotty: ' + str(oc_S) + '\\nDetached spotty: ' + str(dt_S) + '\\nOver-contact no spotty: ' + str(oc_noS) + '\\nDetached no spotty: ' + str(dt_noS))"
   ]
  },
  {
   "cell_type": "code",
   "execution_count": 5,
   "metadata": {},
   "outputs": [],
   "source": [
    "# BLOK 4 \n",
    "# Diskretizacia\n",
    "\n",
    "newDataAll = []\n",
    "for row in data_syn['generic_bessell_v']:\n",
    "    row = json.loads(row)\n",
    "    minValueOfRow, maxValueOfRow = min(row), max(row)\n",
    "    newRow = []\n",
    "    for valueIndex in range(len(row)):\n",
    "        row[valueIndex] = (row[valueIndex] - minValueOfRow) / (maxValueOfRow - minValueOfRow)\n",
    "        newRow.append([row[valueIndex]])\n",
    "    newDataAll.append(newRow)\n",
    "newDataAll = np.array(newDataAll)"
   ]
  },
  {
   "cell_type": "code",
   "execution_count": 10,
   "metadata": {},
   "outputs": [
    {
     "name": "stdout",
     "output_type": "stream",
     "text": [
      "Number of light curves: 990407\n",
      "Target attribute: 990407\n",
      "Length X_train:  792325\n",
      "Length y_train:  792325\n",
      "Length X_test:  198082\n",
      "Length y_test:  198082\n"
     ]
    }
   ],
   "source": [
    "# BLOK 5\n",
    "# Rozdelenie upravenych kriviek na trenovaciu a testovaciu mnozinu v pomere 80:20\n",
    "\n",
    "print(\"Number of light curves: \" + str(len(newDataAll)) + \"\\nTarget attribute: \" + str(len(classNum)))\n",
    "X_trainAll4, X_testAll4, y_trainAll4, y_testAll4 = train_test_split(newDataAll, classNum, test_size=0.2)\n",
    "y_trainAll4 = to_categorical(y_trainAll4-1, 4)\n",
    "y_testAll4 = to_categorical(y_testAll4-1, 4)\n",
    "print(\"Length X_train: \", str(len(X_trainAll4)))\n",
    "print(\"Length y_train: \", str(len(y_trainAll4)))\n",
    "print(\"Length X_test: \", str(len(X_testAll4)))\n",
    "print(\"Length y_test: \", str(len(y_testAll4)))"
   ]
  },
  {
   "cell_type": "code",
   "execution_count": null,
   "metadata": {},
   "outputs": [],
   "source": [
    "# BLOK 6\n",
    "# Vytvorenie architektúry klasifikačneho modelu a jeho trenovanie\n",
    "\n",
    "inputs = Input(shape=(100, 1))\n",
    "a = LSTM(64, dropout = 0.1, recurrent_dropout = 0.1, return_sequences = True)(inputs)\n",
    "a = Flatten()(a)\n",
    "b = Convolution1D(64, 3, padding = \"valid\", input_shape = (100, 1))(inputs)\n",
    "b = MaxPooling1D(pool_size=2)(b)\n",
    "b = Convolution1D(32, 3, padding = \"valid\")(b)\n",
    "b = MaxPooling1D(pool_size=2)(b)\n",
    "b = Flatten()(b)\n",
    "x = Concatenate()([a, b])\n",
    "x = Dropout(0.5)(x)\n",
    "x = Dense(64, activation = \"relu\")(x)\n",
    "output = Dense(4, activation = \"softmax\")(x)\n",
    "model4Class = Model(inputs = inputs, outputs = output)\n",
    "model4Class.compile(loss = \"categorical_crossentropy\", optimizer = \"adam\", metrics = [\"acc\"])\n",
    "\n",
    "saved_model = \"new_model4Class.hdf5\"\n",
    "checkpoint = ModelCheckpoint(saved_model, monitor = \"val_loss\", verbose = 2, save_best_only = True, mode = 'min')\n",
    "\n",
    "model4Class.fit(X_trainAll4, y_trainAll4, epochs = 5, batch_size = 32, validation_split=0.2, callbacks = [checkpoint], verbose = 2)"
   ]
  },
  {
   "cell_type": "code",
   "execution_count": 11,
   "metadata": {},
   "outputs": [
    {
     "name": "stdout",
     "output_type": "stream",
     "text": [
      "WARNING:tensorflow:From C:\\Users\\nemci\\anaconda3\\lib\\site-packages\\tensorflow\\python\\ops\\init_ops.py:97: calling GlorotUniform.__init__ (from tensorflow.python.ops.init_ops) with dtype is deprecated and will be removed in a future version.\n",
      "Instructions for updating:\n",
      "Call initializer instance with the dtype argument instead of passing it to the constructor\n",
      "WARNING:tensorflow:From C:\\Users\\nemci\\anaconda3\\lib\\site-packages\\tensorflow\\python\\ops\\init_ops.py:1251: calling VarianceScaling.__init__ (from tensorflow.python.ops.init_ops) with dtype is deprecated and will be removed in a future version.\n",
      "Instructions for updating:\n",
      "Call initializer instance with the dtype argument instead of passing it to the constructor\n",
      "WARNING:tensorflow:From C:\\Users\\nemci\\anaconda3\\lib\\site-packages\\tensorflow\\python\\ops\\init_ops.py:97: calling Zeros.__init__ (from tensorflow.python.ops.init_ops) with dtype is deprecated and will be removed in a future version.\n",
      "Instructions for updating:\n",
      "Call initializer instance with the dtype argument instead of passing it to the constructor\n",
      "WARNING:tensorflow:From C:\\Users\\nemci\\anaconda3\\lib\\site-packages\\tensorflow\\python\\ops\\init_ops.py:97: calling Orthogonal.__init__ (from tensorflow.python.ops.init_ops) with dtype is deprecated and will be removed in a future version.\n",
      "Instructions for updating:\n",
      "Call initializer instance with the dtype argument instead of passing it to the constructor\n",
      "WARNING:tensorflow:From C:\\Users\\nemci\\anaconda3\\lib\\site-packages\\tensorflow\\python\\ops\\math_grad.py:1250: add_dispatch_support.<locals>.wrapper (from tensorflow.python.ops.array_ops) is deprecated and will be removed in a future version.\n",
      "Instructions for updating:\n",
      "Use tf.where in 2.0, which has the same broadcast rule as np.where\n",
      "Confusion Matrix 1D CNN + LSTM (4 class.): \n",
      "[[ 2660  6321   117    13]\n",
      " [    8  9215    32     6]\n",
      " [   66    30 47935 42508]\n",
      " [   37    46   331 88757]]\n",
      "              precision    recall  f1-score   support\n",
      "\n",
      "           0       0.96      0.29      0.45      9111\n",
      "           1       0.59      1.00      0.74      9261\n",
      "           2       0.99      0.53      0.69     90539\n",
      "           3       0.68      1.00      0.81     89171\n",
      "\n",
      "    accuracy                           0.75    198082\n",
      "   macro avg       0.80      0.70      0.67    198082\n",
      "weighted avg       0.83      0.75      0.73    198082\n",
      "\n"
     ]
    }
   ],
   "source": [
    "# BLOK 7\n",
    "# Nacitanie modelu. Predikovanie syntetickych kriviek a vyhodnotenie modelu na testovacej mnnozine syntetickych dat pomocou \n",
    "# confusion matrix a vypocet presnosti, navratnosti a f1 skore\n",
    "\n",
    "model = load_model('new_model4Class.hdf5')\n",
    "y_predAll4 = model.predict(X_testAll4)\n",
    "y_predAll42 = []\n",
    "for i in y_predAll4:\n",
    "    maximum = np.argmax(i)\n",
    "    y_predAll42 = np.append(y_predAll42, maximum)\n",
    "\n",
    "cm = confusion_matrix(y_testAll4.argmax(axis=1), y_predAll42)\n",
    "print(\"Confusion Matrix 1D CNN + LSTM (4 class.): \\n\" + str(cm))\n",
    "\n",
    "prfs = classification_report(y_testAll4.argmax(axis=1), y_predAll42)\n",
    "print(str(prfs))"
   ]
  }
 ],
 "metadata": {
  "kernelspec": {
   "display_name": "Python 3",
   "language": "python",
   "name": "python3"
  },
  "language_info": {
   "codemirror_mode": {
    "name": "ipython",
    "version": 3
   },
   "file_extension": ".py",
   "mimetype": "text/x-python",
   "name": "python",
   "nbconvert_exporter": "python",
   "pygments_lexer": "ipython3",
   "version": "3.7.6"
  }
 },
 "nbformat": 4,
 "nbformat_minor": 4
}
