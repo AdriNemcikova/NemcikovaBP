{
 "cells": [
  {
   "cell_type": "code",
   "execution_count": 1,
   "metadata": {
    "collapsed": true
   },
   "outputs": [
    {
     "name": "stderr",
     "output_type": "stream",
     "text": [
      "C:\\Users\\nemci\\anaconda3\\lib\\site-packages\\tensorflow\\python\\framework\\dtypes.py:516: FutureWarning: Passing (type, 1) or '1type' as a synonym of type is deprecated; in a future version of numpy, it will be understood as (type, (1,)) / '(1,)type'.\n",
      "  _np_qint8 = np.dtype([(\"qint8\", np.int8, 1)])\n",
      "C:\\Users\\nemci\\anaconda3\\lib\\site-packages\\tensorflow\\python\\framework\\dtypes.py:517: FutureWarning: Passing (type, 1) or '1type' as a synonym of type is deprecated; in a future version of numpy, it will be understood as (type, (1,)) / '(1,)type'.\n",
      "  _np_quint8 = np.dtype([(\"quint8\", np.uint8, 1)])\n",
      "C:\\Users\\nemci\\anaconda3\\lib\\site-packages\\tensorflow\\python\\framework\\dtypes.py:518: FutureWarning: Passing (type, 1) or '1type' as a synonym of type is deprecated; in a future version of numpy, it will be understood as (type, (1,)) / '(1,)type'.\n",
      "  _np_qint16 = np.dtype([(\"qint16\", np.int16, 1)])\n",
      "C:\\Users\\nemci\\anaconda3\\lib\\site-packages\\tensorflow\\python\\framework\\dtypes.py:519: FutureWarning: Passing (type, 1) or '1type' as a synonym of type is deprecated; in a future version of numpy, it will be understood as (type, (1,)) / '(1,)type'.\n",
      "  _np_quint16 = np.dtype([(\"quint16\", np.uint16, 1)])\n",
      "C:\\Users\\nemci\\anaconda3\\lib\\site-packages\\tensorflow\\python\\framework\\dtypes.py:520: FutureWarning: Passing (type, 1) or '1type' as a synonym of type is deprecated; in a future version of numpy, it will be understood as (type, (1,)) / '(1,)type'.\n",
      "  _np_qint32 = np.dtype([(\"qint32\", np.int32, 1)])\n",
      "C:\\Users\\nemci\\anaconda3\\lib\\site-packages\\tensorflow\\python\\framework\\dtypes.py:525: FutureWarning: Passing (type, 1) or '1type' as a synonym of type is deprecated; in a future version of numpy, it will be understood as (type, (1,)) / '(1,)type'.\n",
      "  np_resource = np.dtype([(\"resource\", np.ubyte, 1)])\n",
      "C:\\Users\\nemci\\anaconda3\\lib\\site-packages\\tensorboard\\compat\\tensorflow_stub\\dtypes.py:541: FutureWarning: Passing (type, 1) or '1type' as a synonym of type is deprecated; in a future version of numpy, it will be understood as (type, (1,)) / '(1,)type'.\n",
      "  _np_qint8 = np.dtype([(\"qint8\", np.int8, 1)])\n",
      "C:\\Users\\nemci\\anaconda3\\lib\\site-packages\\tensorboard\\compat\\tensorflow_stub\\dtypes.py:542: FutureWarning: Passing (type, 1) or '1type' as a synonym of type is deprecated; in a future version of numpy, it will be understood as (type, (1,)) / '(1,)type'.\n",
      "  _np_quint8 = np.dtype([(\"quint8\", np.uint8, 1)])\n",
      "C:\\Users\\nemci\\anaconda3\\lib\\site-packages\\tensorboard\\compat\\tensorflow_stub\\dtypes.py:543: FutureWarning: Passing (type, 1) or '1type' as a synonym of type is deprecated; in a future version of numpy, it will be understood as (type, (1,)) / '(1,)type'.\n",
      "  _np_qint16 = np.dtype([(\"qint16\", np.int16, 1)])\n",
      "C:\\Users\\nemci\\anaconda3\\lib\\site-packages\\tensorboard\\compat\\tensorflow_stub\\dtypes.py:544: FutureWarning: Passing (type, 1) or '1type' as a synonym of type is deprecated; in a future version of numpy, it will be understood as (type, (1,)) / '(1,)type'.\n",
      "  _np_quint16 = np.dtype([(\"quint16\", np.uint16, 1)])\n",
      "C:\\Users\\nemci\\anaconda3\\lib\\site-packages\\tensorboard\\compat\\tensorflow_stub\\dtypes.py:545: FutureWarning: Passing (type, 1) or '1type' as a synonym of type is deprecated; in a future version of numpy, it will be understood as (type, (1,)) / '(1,)type'.\n",
      "  _np_qint32 = np.dtype([(\"qint32\", np.int32, 1)])\n",
      "C:\\Users\\nemci\\anaconda3\\lib\\site-packages\\tensorboard\\compat\\tensorflow_stub\\dtypes.py:550: FutureWarning: Passing (type, 1) or '1type' as a synonym of type is deprecated; in a future version of numpy, it will be understood as (type, (1,)) / '(1,)type'.\n",
      "  np_resource = np.dtype([(\"resource\", np.ubyte, 1)])\n",
      "Using TensorFlow backend.\n"
     ]
    }
   ],
   "source": [
    "# BLOK 1 \n",
    "# IMPORTOVANIE KNIZNIC\n",
    "\n",
    "import pandas as pd\n",
    "import numpy as np\n",
    "import json\n",
    "from random import randint\n",
    "\n",
    "\n",
    "from tensorflow.keras.callbacks import ModelCheckpoint\n",
    "from tensorflow.keras import Input\n",
    "from tensorflow.keras.models import Sequential, load_model, Model\n",
    "from tensorflow.keras.layers import Convolution1D, MaxPooling1D, Flatten, Dense, Dropout, LSTM, GRU, Concatenate\n",
    "import tensorflow.keras.utils \n",
    "from keras.utils import to_categorical\n",
    "from sklearn.model_selection import train_test_split\n",
    "from ast import literal_eval\n",
    "from sklearn.metrics import confusion_matrix, precision_score, recall_score, f1_score, classification_report\n",
    "\n",
    "from tensorflow.keras.models import Sequential"
   ]
  },
  {
   "cell_type": "code",
   "execution_count": null,
   "metadata": {},
   "outputs": [],
   "source": [
    "# ----------------------- SYNTHETIC LIGHT CURVES ----------------------- #\n",
    "# ----------------------- SYNTHETIC LIGHT CURVES ----------------------- #\n",
    "# ----------------------- SYNTHETIC LIGHT CURVES ----------------------- #"
   ]
  },
  {
   "cell_type": "code",
   "execution_count": 3,
   "metadata": {},
   "outputs": [],
   "source": [
    "# BLOK 2 \n",
    "# Nacitanie datasetu syntetickych kriviek\n",
    "\n",
    "data_syn = pd.read_csv(r\"C:\\Users\\nemci\\OneDrive\\Počítač\\Bakalárska práca\\Data\\df_all.csv_v2\")"
   ]
  },
  {
   "cell_type": "code",
   "execution_count": 4,
   "metadata": {},
   "outputs": [
    {
     "name": "stdout",
     "output_type": "stream",
     "text": [
      "Over-contact light curves:  91189\n"
     ]
    }
   ],
   "source": [
    "# BLOK 3\n",
    "# vyber podmnoziny dotykovych systemov z datasetu syntetickych kriviek\n",
    "\n",
    "data_over = data_syn[data_syn[\"morphology\"] == \"over-contact\"]\n",
    "\n",
    "print(\"Over-contact light curves: \", data_over.shape[0])"
   ]
  },
  {
   "cell_type": "code",
   "execution_count": 5,
   "metadata": {},
   "outputs": [],
   "source": [
    "# BLOK 4\n",
    "# Diskretizacia \n",
    "\n",
    "newDataOver = []\n",
    "for row in data_over['generic_bessell_v']:\n",
    "    row = json.loads(row)\n",
    "    minValueOfRow, maxValueOfRow = min(row), max(row)\n",
    "    newRow = []\n",
    "    for valueIndex in range(len(row)):\n",
    "        row[valueIndex] = (row[valueIndex] - minValueOfRow) / (maxValueOfRow - minValueOfRow)\n",
    "        newRow.append([row[valueIndex]])\n",
    "    newDataOver.append(newRow)\n",
    "newDataOver = np.array(newDataOver)"
   ]
  },
  {
   "cell_type": "code",
   "execution_count": 6,
   "metadata": {},
   "outputs": [
    {
     "name": "stdout",
     "output_type": "stream",
     "text": [
      "Over-contact spotty: 45320\n",
      "Over-contact no spotty: 45869\n"
     ]
    }
   ],
   "source": [
    "# BLOK 5\n",
    "# Vytvorenie cieloveho atributu kriviek. Hodnota 0 pre krivky bez skvrny, hodnota 1 pre skvrnite krivky\n",
    "\n",
    "target_over = []\n",
    "over_S, over_No = 0, 0\n",
    "for row in data_over[\"spotty\"]:\n",
    "    if row == 1:\n",
    "        target_over.append(1)\n",
    "        over_S += 1\n",
    "    elif row == 0:\n",
    "        target_over.append(0)\n",
    "        over_No += 1\n",
    "target_over = np.array(target_over)\n",
    "print('Over-contact spotty: ' + str(over_S) + '\\nOver-contact no spotty: ' + str(over_No))"
   ]
  },
  {
   "cell_type": "code",
   "execution_count": 7,
   "metadata": {},
   "outputs": [
    {
     "name": "stdout",
     "output_type": "stream",
     "text": [
      "Number of over-contact light curves: 91189\n",
      "Target attribute: 91189\n",
      "Length X_trainOver:  72951\n",
      "Length y_trainOver:  72951\n",
      "Length X_testOver:  18238\n",
      "Length y_testOver:  18238\n"
     ]
    }
   ],
   "source": [
    "# BLOK 6\n",
    "# Rozdelenie upravenych kriviek na trenovaciu a testovaciu mnozinu v pomere 80:20\n",
    "\n",
    "print(\"Number of over-contact light curves: \" + str(len(newDataOver)) + \"\\nTarget attribute: \" + str(len(target_over)))\n",
    "X_trainOver, X_testOver, y_trainOver, y_testOver = train_test_split(newDataOver, target_over, test_size = 0.2)\n",
    "y_trainOver = to_categorical(y_trainOver, 2)\n",
    "y_testOver = to_categorical(y_testOver, 2)\n",
    "print(\"Length X_trainOver: \", str(len(X_trainOver)))\n",
    "print(\"Length y_trainOver: \", str(len(y_trainOver)))\n",
    "print(\"Length X_testOver: \", str(len(X_testOver)))\n",
    "print(\"Length y_testOver: \", str(len(y_testOver)))"
   ]
  },
  {
   "cell_type": "code",
   "execution_count": null,
   "metadata": {},
   "outputs": [],
   "source": [
    "# BLOK 7\n",
    "# Vytvorenie architektúry klasifikačneho modelu a jeho trenovanie\n",
    "\n",
    "model = Sequential()\n",
    "model.add(Convolution1D(128, 2, activation = 'relu', input_shape = (100, 1))) \n",
    "model.add(MaxPooling1D(pool_size=2))\n",
    "model.add(Convolution1D(64, 2, activation='relu'))\n",
    "model.add(MaxPooling1D(pool_size=2))\n",
    "model.add(Convolution1D(128, 2, activation='relu'))\n",
    "model.add(MaxPooling1D(pool_size=2))\n",
    "model.add(Flatten())\n",
    "model.add(Dense(64, activation='relu'))\n",
    "model.add(Dropout(0.25))\n",
    "model.add(Dense(2, activation='softmax'))\n",
    "model.compile(loss='categorical_crossentropy', optimizer='adam', metrics=['acc'])\n",
    "\n",
    "savedModel = \"new_modelOver.hdf5\"\n",
    "checkpoint = ModelCheckpoint(savedModel, monitor = \"val_loss\", verbose = 2, save_best_only = True, mode = 'min')\n",
    "model.fit(X_trainOver, y_trainOver, epochs = 7, batch_size = 32, validation_split=0.2, callbacks = [checkpoint], verbose = 2)"
   ]
  },
  {
   "cell_type": "code",
   "execution_count": 8,
   "metadata": {},
   "outputs": [
    {
     "name": "stdout",
     "output_type": "stream",
     "text": [
      "Confusion Matrix 1D CNN (over-contact): \n",
      "[[9099    3]\n",
      " [3175 5961]]\n",
      "              precision    recall  f1-score   support\n",
      "\n",
      "           0       0.74      1.00      0.85      9102\n",
      "           1       1.00      0.65      0.79      9136\n",
      "\n",
      "    accuracy                           0.83     18238\n",
      "   macro avg       0.87      0.83      0.82     18238\n",
      "weighted avg       0.87      0.83      0.82     18238\n",
      "\n"
     ]
    }
   ],
   "source": [
    "# BLOK 8\n",
    "# Nacitanie modelu. Predikovanie syntetických dotykovych kriviek a vyhodnotenie modelu na testovacej mnozine syntetických \n",
    "# dotykovych kriviek pomocou confusion matrix a vypocet presnosti, navratnosti a f1 skore\n",
    "\n",
    "\n",
    "model = load_model('new_modelOver.hdf5')\n",
    "y_pred1DCNN = model.predict(X_testOver)\n",
    "y_pred2 = []\n",
    "for i in y_pred1DCNN:\n",
    "    maximum = np.argmax(i)\n",
    "    y_pred2 = np.append(y_pred2, maximum)\n",
    "\n",
    "cm = confusion_matrix(y_testOver.argmax(axis=1), y_pred2)\n",
    "print(\"Confusion Matrix 1D CNN (over-contact): \\n\" + str(cm))\n",
    "\n",
    "prfs = classification_report(y_testOver.argmax(axis=1), y_pred2)\n",
    "print(str(prfs))"
   ]
  }
 ],
 "metadata": {
  "kernelspec": {
   "display_name": "Python 3",
   "language": "python",
   "name": "python3"
  },
  "language_info": {
   "codemirror_mode": {
    "name": "ipython",
    "version": 3
   },
   "file_extension": ".py",
   "mimetype": "text/x-python",
   "name": "python",
   "nbconvert_exporter": "python",
   "pygments_lexer": "ipython3",
   "version": "3.7.6"
  }
 },
 "nbformat": 4,
 "nbformat_minor": 4
}
