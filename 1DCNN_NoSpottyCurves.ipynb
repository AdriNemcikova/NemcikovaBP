{
 "cells": [
  {
   "cell_type": "code",
   "execution_count": 1,
   "metadata": {
    "collapsed": true
   },
   "outputs": [
    {
     "name": "stderr",
     "output_type": "stream",
     "text": [
      "C:\\Users\\nemci\\anaconda3\\lib\\site-packages\\tensorflow\\python\\framework\\dtypes.py:516: FutureWarning: Passing (type, 1) or '1type' as a synonym of type is deprecated; in a future version of numpy, it will be understood as (type, (1,)) / '(1,)type'.\n",
      "  _np_qint8 = np.dtype([(\"qint8\", np.int8, 1)])\n",
      "C:\\Users\\nemci\\anaconda3\\lib\\site-packages\\tensorflow\\python\\framework\\dtypes.py:517: FutureWarning: Passing (type, 1) or '1type' as a synonym of type is deprecated; in a future version of numpy, it will be understood as (type, (1,)) / '(1,)type'.\n",
      "  _np_quint8 = np.dtype([(\"quint8\", np.uint8, 1)])\n",
      "C:\\Users\\nemci\\anaconda3\\lib\\site-packages\\tensorflow\\python\\framework\\dtypes.py:518: FutureWarning: Passing (type, 1) or '1type' as a synonym of type is deprecated; in a future version of numpy, it will be understood as (type, (1,)) / '(1,)type'.\n",
      "  _np_qint16 = np.dtype([(\"qint16\", np.int16, 1)])\n",
      "C:\\Users\\nemci\\anaconda3\\lib\\site-packages\\tensorflow\\python\\framework\\dtypes.py:519: FutureWarning: Passing (type, 1) or '1type' as a synonym of type is deprecated; in a future version of numpy, it will be understood as (type, (1,)) / '(1,)type'.\n",
      "  _np_quint16 = np.dtype([(\"quint16\", np.uint16, 1)])\n",
      "C:\\Users\\nemci\\anaconda3\\lib\\site-packages\\tensorflow\\python\\framework\\dtypes.py:520: FutureWarning: Passing (type, 1) or '1type' as a synonym of type is deprecated; in a future version of numpy, it will be understood as (type, (1,)) / '(1,)type'.\n",
      "  _np_qint32 = np.dtype([(\"qint32\", np.int32, 1)])\n",
      "C:\\Users\\nemci\\anaconda3\\lib\\site-packages\\tensorflow\\python\\framework\\dtypes.py:525: FutureWarning: Passing (type, 1) or '1type' as a synonym of type is deprecated; in a future version of numpy, it will be understood as (type, (1,)) / '(1,)type'.\n",
      "  np_resource = np.dtype([(\"resource\", np.ubyte, 1)])\n",
      "C:\\Users\\nemci\\anaconda3\\lib\\site-packages\\tensorboard\\compat\\tensorflow_stub\\dtypes.py:541: FutureWarning: Passing (type, 1) or '1type' as a synonym of type is deprecated; in a future version of numpy, it will be understood as (type, (1,)) / '(1,)type'.\n",
      "  _np_qint8 = np.dtype([(\"qint8\", np.int8, 1)])\n",
      "C:\\Users\\nemci\\anaconda3\\lib\\site-packages\\tensorboard\\compat\\tensorflow_stub\\dtypes.py:542: FutureWarning: Passing (type, 1) or '1type' as a synonym of type is deprecated; in a future version of numpy, it will be understood as (type, (1,)) / '(1,)type'.\n",
      "  _np_quint8 = np.dtype([(\"quint8\", np.uint8, 1)])\n",
      "C:\\Users\\nemci\\anaconda3\\lib\\site-packages\\tensorboard\\compat\\tensorflow_stub\\dtypes.py:543: FutureWarning: Passing (type, 1) or '1type' as a synonym of type is deprecated; in a future version of numpy, it will be understood as (type, (1,)) / '(1,)type'.\n",
      "  _np_qint16 = np.dtype([(\"qint16\", np.int16, 1)])\n",
      "C:\\Users\\nemci\\anaconda3\\lib\\site-packages\\tensorboard\\compat\\tensorflow_stub\\dtypes.py:544: FutureWarning: Passing (type, 1) or '1type' as a synonym of type is deprecated; in a future version of numpy, it will be understood as (type, (1,)) / '(1,)type'.\n",
      "  _np_quint16 = np.dtype([(\"quint16\", np.uint16, 1)])\n",
      "C:\\Users\\nemci\\anaconda3\\lib\\site-packages\\tensorboard\\compat\\tensorflow_stub\\dtypes.py:545: FutureWarning: Passing (type, 1) or '1type' as a synonym of type is deprecated; in a future version of numpy, it will be understood as (type, (1,)) / '(1,)type'.\n",
      "  _np_qint32 = np.dtype([(\"qint32\", np.int32, 1)])\n",
      "C:\\Users\\nemci\\anaconda3\\lib\\site-packages\\tensorboard\\compat\\tensorflow_stub\\dtypes.py:550: FutureWarning: Passing (type, 1) or '1type' as a synonym of type is deprecated; in a future version of numpy, it will be understood as (type, (1,)) / '(1,)type'.\n",
      "  np_resource = np.dtype([(\"resource\", np.ubyte, 1)])\n",
      "Using TensorFlow backend.\n"
     ]
    }
   ],
   "source": [
    "# BLOK 1 \n",
    "# IMPORTOVANIE KNIZNIC\n",
    "\n",
    "import pandas as pd\n",
    "import numpy as np\n",
    "import json\n",
    "from random import randint\n",
    "\n",
    "from tensorflow.keras.callbacks import ModelCheckpoint\n",
    "from tensorflow.keras import Input\n",
    "from tensorflow.keras.models import Sequential, load_model, Model\n",
    "from tensorflow.keras.layers import Convolution1D, MaxPooling1D, Flatten, Dense, Dropout, LSTM, GRU, Concatenate\n",
    "import tensorflow.keras.utils \n",
    "from keras.utils import to_categorical\n",
    "from sklearn.model_selection import train_test_split\n",
    "from ast import literal_eval\n",
    "from sklearn.metrics import confusion_matrix, precision_score, recall_score, f1_score, classification_report\n",
    "\n",
    "from tensorflow.keras.models import Sequential"
   ]
  },
  {
   "cell_type": "code",
   "execution_count": null,
   "metadata": {},
   "outputs": [],
   "source": [
    "# ----------------------- SYNTHETIC LIGHT CURVES ----------------------- #\n",
    "# ----------------------- SYNTHETIC LIGHT CURVES ----------------------- #\n",
    "# ----------------------- SYNTHETIC LIGHT CURVES ----------------------- #"
   ]
  },
  {
   "cell_type": "code",
   "execution_count": null,
   "metadata": {},
   "outputs": [],
   "source": [
    "# BLOK 2 \n",
    "# Nacitanie datasetu syntetickych kriviek\n",
    "\n",
    "data_syn = pd.read_csv(r\"C:\\Users\\nemci\\OneDrive\\Počítač\\Bakalárska práca\\Data\\df_all.csv_v2\")"
   ]
  },
  {
   "cell_type": "code",
   "execution_count": null,
   "metadata": {},
   "outputs": [],
   "source": [
    "# BLOK 3\n",
    "# Rozdelenie syntetickych kriviek na podmnozinu neskrvnitych a skvrnitych\n",
    "\n",
    "data_NoSpotty = data_syn[data_syn[\"spotty\"] == 0]\n",
    "data_Spotty = data_syn[data_syn[\"spotty\"] == 1]\n",
    "\n",
    "print(\"No spotty light curves: \", data_NoSpotty.shape[0]) \n",
    "print(\"Spotty light curves: \", data_Spotty.shape[0])"
   ]
  },
  {
   "cell_type": "code",
   "execution_count": null,
   "metadata": {},
   "outputs": [],
   "source": [
    "# BLOK 4\n",
    "# Diskretizacia \n",
    "\n",
    "newData = []\n",
    "for row in data_NoSpotty['generic_bessell_v']:\n",
    "    row = json.loads(row)\n",
    "    minValueOfRow, maxValueOfRow = min(row), max(row)\n",
    "    newRow = []\n",
    "    for valueIndex in range(len(row)):\n",
    "        row[valueIndex] = (row[valueIndex] - minValueOfRow) / (maxValueOfRow - minValueOfRow)\n",
    "        newRow.append([row[valueIndex]])\n",
    "    newData.append(newRow)\n",
    "newData = np.array(newData)"
   ]
  },
  {
   "cell_type": "code",
   "execution_count": null,
   "metadata": {},
   "outputs": [],
   "source": [
    "# BLOK 5\n",
    "# Vytvorenie cieloveho atributu kriviek. Hodnota 0 pre dotykove, hodnota 1 pre oddelene krivky\n",
    "\n",
    "target = []\n",
    "oc, dt = 0, 0\n",
    "for row in data_NoSpotty[\"morphology\"]:\n",
    "    if row == 'over-contact':\n",
    "        target.append(0)\n",
    "        oc += 1\n",
    "    elif row == 'detached':\n",
    "        target.append(1)\n",
    "        dt += 1\n",
    "target = np.array(target)\n",
    "print('Over-contact no spotty: ' + str(oc) + '\\n' + 'Detached no spotty: ' + str(dt))"
   ]
  },
  {
   "cell_type": "code",
   "execution_count": null,
   "metadata": {},
   "outputs": [],
   "source": [
    "# BLOK 6\n",
    "# Rozdelenie upravenych kriviek na trenovaciu a testovaciu mnozinu v pomere 80:20\n",
    "\n",
    "print(\"Number of light curves: \" + str(len(newData)) + \"\\nTarget attribute: \" + str(len(target)))\n",
    "X_train, X_test, y_train, y_test = train_test_split(newData, target, test_size=0.2)\n",
    "y_train = to_categorical(y_train, 2)\n",
    "y_test = to_categorical(y_test, 2)\n",
    "print(\"Length X_train: \", str(len(X_train)))\n",
    "print(\"Length y_train: \", str(len(y_train)))\n",
    "print(\"Length X_test: \", str(len(X_test)))\n",
    "print(\"Length y_test: \", str(len(y_test)))"
   ]
  },
  {
   "cell_type": "code",
   "execution_count": null,
   "metadata": {},
   "outputs": [],
   "source": [
    "# BLOK 7\n",
    "# Vytvorenie architektúry klasifikačneho modelu a jeho trenovanie\n",
    "\n",
    "model = Sequential()\n",
    "model.add(Convolution1D(64, 3, activation = 'relu', input_shape = (100, 1))) \n",
    "model.add(MaxPooling1D(pool_size=2))\n",
    "model.add(Convolution1D(32, 3, activation='relu'))\n",
    "model.add(MaxPooling1D(pool_size=2))\n",
    "model.add(Flatten())\n",
    "model.add(Dense(64, activation='relu'))\n",
    "model.add(Dropout(0.25))\n",
    "model.add(Dense(2, activation='softmax'))\n",
    "model.compile(loss='categorical_crossentropy', optimizer='adam', metrics=['acc'])\n",
    "\n",
    "saved_model = \"new_model.hdf5\"\n",
    "checkpoint = ModelCheckpoint(saved_model, monitor = \"val_loss\", verbose = 2, save_best_only = True, mode = 'min')\n",
    "\n",
    "hist = model.fit(X_train, y_train, epochs = 5, batch_size = 32, validation_split=0.2, callbacks = [checkpoint], verbose = 2)"
   ]
  },
  {
   "cell_type": "code",
   "execution_count": null,
   "metadata": {},
   "outputs": [],
   "source": [
    "# ----------------------- OBSERVED LIGHT CURVES ----------------------- #\n",
    "# ----------------------- OBSERVED LIGHT CURVES ----------------------- #\n",
    "# ----------------------- OBSERVED LIGHT CURVES ----------------------- #"
   ]
  },
  {
   "cell_type": "code",
   "execution_count": 4,
   "metadata": {},
   "outputs": [],
   "source": [
    "# BLOK 8\n",
    "# Zadefinovanie stlpcov. Nacitanie datasetu observacnych kriviek. Vyber potrebnych atributov. Vyber atributu \"flux\" \n",
    "# predstavujuci svietivost krivky.\n",
    "\n",
    "columns = ['id', 'morphology', 'passband', 'params', 'data', 'origin', 'period', 'target', 'epoch', 'meta']\n",
    "df = pd.read_csv(r\"C:\\Users\\nemci\\OneDrive\\Počítač\\Bakalárska práca\\Data\\observed_lc.csv\", sep=\"|\", header=None)\n",
    "df.columns = columns\n",
    "\n",
    "df = df[[\"target\", \"morphology\", \"data\"]]\n",
    "processed_data = [literal_eval(_data)[\"flux\"] for _data in df[\"data\"]]\n",
    "morphology = df[[\"morphology\"]].values\n",
    "processed_data = np.array(processed_data, dtype=np.float32)\n",
    "processed_data = np.reshape(processed_data, processed_data.shape + (1,))"
   ]
  },
  {
   "cell_type": "code",
   "execution_count": 5,
   "metadata": {},
   "outputs": [
    {
     "name": "stdout",
     "output_type": "stream",
     "text": [
      "Over-contact: 47\n",
      "Detached:53\n"
     ]
    }
   ],
   "source": [
    "# BLOK 9\n",
    "# Vytvorenie cieloveho atributu kriviek. Hodnota 0 pre dotykove, hodnota 1 pre oddelene krivky.\n",
    "\n",
    "target_obs = []\n",
    "oc_obs, dt_obs = 0, 0\n",
    "for row in df[\"morphology\"]:\n",
    "    if row == 'over-contact':\n",
    "        target_obs.extend([0])\n",
    "        oc_obs += 1\n",
    "    elif row == 'detached':\n",
    "        target_obs.extend([1])\n",
    "        dt_obs += 1\n",
    "target_obs = np.array(target_obs)\n",
    "print('Over-contact: ' + str(oc_obs) + '\\n' + 'Detached:' + str(dt_obs))"
   ]
  },
  {
   "cell_type": "code",
   "execution_count": 6,
   "metadata": {},
   "outputs": [
    {
     "name": "stdout",
     "output_type": "stream",
     "text": [
      "Confusion Matrix 1D CNN: \n",
      "[[44  3]\n",
      " [ 2 51]]\n",
      "              precision    recall  f1-score   support\n",
      "\n",
      "           0       0.96      0.94      0.95        47\n",
      "           1       0.94      0.96      0.95        53\n",
      "\n",
      "    accuracy                           0.95       100\n",
      "   macro avg       0.95      0.95      0.95       100\n",
      "weighted avg       0.95      0.95      0.95       100\n",
      "\n"
     ]
    }
   ],
   "source": [
    "# BLOK 10\n",
    "# Nacitanie modelu. Predikovanie observacnych kriviek a vyhodnotenie modelu na observacnych datach pomocou confusion matrix a \n",
    "# vypocet presnosti, navratnosti a f1 skore\n",
    "\n",
    "model = load_model('new_model.hdf5')\n",
    "y_pred1DCNN = model.predict(processed_data)\n",
    "y_pred2 = []\n",
    "for i in y_pred1DCNN:\n",
    "    maximum = np.argmax(i)\n",
    "    y_pred2 = np.append(y_pred2, maximum)\n",
    "\n",
    "cm = confusion_matrix(target_obs, y_pred2)\n",
    "print(\"Confusion Matrix 1D CNN: \\n\" + str(cm))\n",
    "\n",
    "prfs = classification_report(target_obs, y_pred2)\n",
    "print(str(prfs))"
   ]
  }
 ],
 "metadata": {
  "kernelspec": {
   "display_name": "Python 3",
   "language": "python",
   "name": "python3"
  },
  "language_info": {
   "codemirror_mode": {
    "name": "ipython",
    "version": 3
   },
   "file_extension": ".py",
   "mimetype": "text/x-python",
   "name": "python",
   "nbconvert_exporter": "python",
   "pygments_lexer": "ipython3",
   "version": "3.7.6"
  }
 },
 "nbformat": 4,
 "nbformat_minor": 4
}
